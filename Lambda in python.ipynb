{
 "cells": [
  {
   "cell_type": "code",
   "execution_count": 1,
   "id": "22317a75-5060-4130-b85a-1419d4dec52b",
   "metadata": {},
   "outputs": [],
   "source": [
    "#Lamda function in python"
   ]
  },
  {
   "cell_type": "code",
   "execution_count": 2,
   "id": "2bf85dcf-1edb-42a7-ae23-694680d77488",
   "metadata": {},
   "outputs": [
    {
     "name": "stdout",
     "output_type": "stream",
     "text": [
      "15\n"
     ]
    }
   ],
   "source": [
    "x = lambda a: a+10\n",
    "print(x(5))"
   ]
  },
  {
   "cell_type": "code",
   "execution_count": 5,
   "id": "21d8ba8c-6753-4566-b617-17d6129468d1",
   "metadata": {},
   "outputs": [
    {
     "name": "stdout",
     "output_type": "stream",
     "text": [
      "30\n"
     ]
    }
   ],
   "source": [
    "x = lambda a, b: a*b\n",
    "print(x(6,5))"
   ]
  },
  {
   "cell_type": "code",
   "execution_count": 7,
   "id": "15f6d2f7-99cd-491c-ac06-488367bf5656",
   "metadata": {},
   "outputs": [
    {
     "name": "stderr",
     "output_type": "stream",
     "text": [
      "<>:3: SyntaxWarning: 'int' object is not callable; perhaps you missed a comma?\n",
      "<>:3: SyntaxWarning: 'int' object is not callable; perhaps you missed a comma?\n",
      "C:\\Users\\Pc\\AppData\\Local\\Temp\\ipykernel_17728\\4048280507.py:3: SyntaxWarning: 'int' object is not callable; perhaps you missed a comma?\n",
      "  print(x(6(5)))\n"
     ]
    },
    {
     "ename": "TypeError",
     "evalue": "'int' object is not callable",
     "output_type": "error",
     "traceback": [
      "\u001b[1;31m---------------------------------------------------------------------------\u001b[0m",
      "\u001b[1;31mTypeError\u001b[0m                                 Traceback (most recent call last)",
      "Cell \u001b[1;32mIn[7], line 3\u001b[0m\n\u001b[0;32m      1\u001b[0m \u001b[38;5;66;03m#Error will give\u001b[39;00m\n\u001b[0;32m      2\u001b[0m x \u001b[38;5;241m=\u001b[39m \u001b[38;5;28;01mlambda\u001b[39;00m a, b: a\u001b[38;5;241m*\u001b[39mb\n\u001b[1;32m----> 3\u001b[0m \u001b[38;5;28mprint\u001b[39m(x(\u001b[38;5;241m6\u001b[39m(\u001b[38;5;241m5\u001b[39m)))\n",
      "\u001b[1;31mTypeError\u001b[0m: 'int' object is not callable"
     ]
    }
   ],
   "source": [
    "#Error will give\n",
    "x = lambda a, b: a*b\n",
    "print(x(6(5)))"
   ]
  },
  {
   "cell_type": "code",
   "execution_count": 13,
   "id": "06139c4a-4d9e-4e99-b3d7-eb8900eb5612",
   "metadata": {},
   "outputs": [
    {
     "name": "stdout",
     "output_type": "stream",
     "text": [
      "15\n"
     ]
    }
   ],
   "source": [
    "x = lambda a,b,c : a+b+c\n",
    "print(x(4,5,6))\n"
   ]
  },
  {
   "cell_type": "code",
   "execution_count": 14,
   "id": "adecf34c-35c9-4535-8950-559cdc7a4b0d",
   "metadata": {},
   "outputs": [
    {
     "name": "stdout",
     "output_type": "stream",
     "text": [
      "20\n"
     ]
    }
   ],
   "source": [
    "def my_function(n):\n",
    "    return lambda a: a*n\n",
    "\n",
    "new_function = my_function(2)\n",
    "print(new_function(10))"
   ]
  },
  {
   "cell_type": "code",
   "execution_count": 23,
   "id": "be304581-087c-4d41-8f0b-b7798746caa7",
   "metadata": {},
   "outputs": [
    {
     "name": "stdout",
     "output_type": "stream",
     "text": [
      "15\n"
     ]
    }
   ],
   "source": [
    "#Use that function definition to make a function that always doubles the number you send in:\n",
    "def my_func(n):\n",
    "    return lambda a: a*n\n",
    "\n",
    "new_func = my_func(3)\n",
    "print(new_func(5))"
   ]
  },
  {
   "cell_type": "code",
   "execution_count": 18,
   "id": "ce7f865c-cb16-48e4-aed5-77cd0501ccc5",
   "metadata": {},
   "outputs": [],
   "source": [
    "#use the same function definition to make a function that always triples the number you send in:"
   ]
  },
  {
   "cell_type": "code",
   "execution_count": 22,
   "id": "fc3e9b59-ce2d-4927-84f4-94088096e066",
   "metadata": {},
   "outputs": [
    {
     "name": "stdout",
     "output_type": "stream",
     "text": [
      "30\n"
     ]
    }
   ],
   "source": [
    "def my_func(n):\n",
    "    return lambda a: a*n\n",
    "\n",
    "new_func = my_func(3)\n",
    "print(new_func(10))"
   ]
  },
  {
   "cell_type": "code",
   "execution_count": 24,
   "id": "d63b1114-ff33-45a7-9c72-679af7cf9c84",
   "metadata": {},
   "outputs": [],
   "source": [
    "#use the same function definition to make both functions, in the same program:"
   ]
  },
  {
   "cell_type": "code",
   "execution_count": 26,
   "id": "a19f3704-6003-4c1c-a170-4f5877743baf",
   "metadata": {},
   "outputs": [
    {
     "name": "stdout",
     "output_type": "stream",
     "text": [
      "20\n",
      "30\n"
     ]
    }
   ],
   "source": [
    "def my_func(n):\n",
    "    return lambda a: a*n\n",
    "\n",
    "new_doubler = my_func(2)\n",
    "new_tripler = my_func(3)\n",
    "\n",
    "print(new_doubler(10))\n",
    "print(new_tripler(10))"
   ]
  },
  {
   "cell_type": "code",
   "execution_count": 46,
   "id": "edc2d40b-620c-417e-b19b-dd58f0bf5fcc",
   "metadata": {},
   "outputs": [
    {
     "name": "stdout",
     "output_type": "stream",
     "text": [
      "15\n"
     ]
    }
   ],
   "source": [
    "def appl(fx,values):\n",
    "    cube = lambda x: x*x*x\n",
    "    return 7 + fx(values)\n",
    "\n",
    "print(appl(cube,2))"
   ]
  },
  {
   "cell_type": "code",
   "execution_count": 31,
   "id": "339d2762-3171-488f-97e1-e0d9cf719a0b",
   "metadata": {},
   "outputs": [
    {
     "name": "stdout",
     "output_type": "stream",
     "text": [
      "13\n"
     ]
    }
   ],
   "source": [
    "def cube(x):\n",
    "    return x**3  \n",
    "\n",
    "def appl(fx, values):\n",
    "    return 5 + fx(values)  \n",
    "\n",
    "print(appl(cube, 2)) \n"
   ]
  },
  {
   "cell_type": "code",
   "execution_count": 48,
   "id": "8503abe7-1162-4a56-9b20-5aab082978c2",
   "metadata": {},
   "outputs": [
    {
     "name": "stdout",
     "output_type": "stream",
     "text": [
      "15\n"
     ]
    }
   ],
   "source": [
    "#The same as the above one lambda use in the arguments:\n",
    "def appl(fx,values):\n",
    "    #cube = lambda x: x*x*x\n",
    "    return 7 + fx(values)\n",
    "\n",
    "print(appl(lambda x: x*x*x,2))"
   ]
  },
  {
   "cell_type": "code",
   "execution_count": null,
   "id": "099a3ab4-2964-4a56-a8a8-679adb32d1ff",
   "metadata": {},
   "outputs": [],
   "source": []
  }
 ],
 "metadata": {
  "kernelspec": {
   "display_name": "Python 3 (ipykernel)",
   "language": "python",
   "name": "python3"
  },
  "language_info": {
   "codemirror_mode": {
    "name": "ipython",
    "version": 3
   },
   "file_extension": ".py",
   "mimetype": "text/x-python",
   "name": "python",
   "nbconvert_exporter": "python",
   "pygments_lexer": "ipython3",
   "version": "3.12.7"
  }
 },
 "nbformat": 4,
 "nbformat_minor": 5
}
